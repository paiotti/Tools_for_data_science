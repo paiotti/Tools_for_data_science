{
 "cells": [
  {
   "cell_type": "markdown",
   "id": "492b7cbe-589f-4aa7-a923-b677cbc9d794",
   "metadata": {},
   "source": [
    "# Data Science Tools and Ecosystem"
   ]
  },
  {
   "cell_type": "markdown",
   "id": "6a5307eb-3516-4c96-aef8-d65308a9b2f1",
   "metadata": {},
   "source": [
    "## Author: \n",
    "Rafael Paiotti M. G."
   ]
  },
  {
   "cell_type": "markdown",
   "id": "7370a440-244a-4d3e-b4f3-f7cf361cb29b",
   "metadata": {},
   "source": [
    "In this notebook, Data Science Tools and Ecosystem are summarized."
   ]
  },
  {
   "cell_type": "markdown",
   "id": "4f4977bf-0cd7-4dd0-a39c-5a6d3814db3f",
   "metadata": {},
   "source": [
    "**Objectives:**\n",
    "* List popular languages for Data Science\n",
    "* List of commonly used Libraries used by Data Scientists\n",
    "* Table of development environment open source tools used in Data Science"
   ]
  },
  {
   "cell_type": "markdown",
   "id": "42d1c5d0-7151-451b-8996-08effe12bd4d",
   "metadata": {},
   "source": [
    "Some of the popular languages that Data Scientists use are:\n",
    "1. R\n",
    "2. Python\n",
    "3. SQL\n",
    "4. Java\n",
    "5. Scala\n",
    "6. Julia\n",
    "7. C/C++"
   ]
  },
  {
   "cell_type": "markdown",
   "id": "1b24254a-fe7c-4e44-b4b7-ea5a7fb7ef25",
   "metadata": {},
   "source": [
    "Some of the commonly used libraries used by Data Scientis include:\n",
    "1. NumPy\n",
    "2. Pandas\n",
    "3. Seaborn\n",
    "4. Plotly\n",
    "5. SciPy\n",
    "6. Scikit-learn"
   ]
  },
  {
   "cell_type": "markdown",
   "id": "4d736dee-a561-4372-9985-ffea9e6bd6d5",
   "metadata": {},
   "source": [
    "Table indicating Data Science tools:\n",
    "| Data Science Tools |\n",
    "|--------------------|\n",
    "| RStudio |\n",
    "| Spyder |\n",
    "| Pycharm |"
   ]
  },
  {
   "cell_type": "markdown",
   "id": "40f89ef7-ec97-42f6-b7fb-886681ad2b71",
   "metadata": {},
   "source": [
    "### Below are a few examples of evaluating arithmetic expressions in Python."
   ]
  },
  {
   "cell_type": "code",
   "execution_count": 16,
   "id": "d26d9e06-f970-4ae7-b4c5-218d568d8f9a",
   "metadata": {},
   "outputs": [
    {
     "data": {
      "text/plain": [
       "17"
      ]
     },
     "execution_count": 16,
     "metadata": {},
     "output_type": "execute_result"
    }
   ],
   "source": [
    "#This is a simple arithmetic expression to mutiply then add integers\n",
    "(3*4)+5"
   ]
  },
  {
   "cell_type": "code",
   "execution_count": 18,
   "id": "7e54e5f7-0cea-46f4-b823-0bd0e9455424",
   "metadata": {},
   "outputs": [
    {
     "data": {
      "text/plain": [
       "3.3333333333333335"
      ]
     },
     "execution_count": 18,
     "metadata": {},
     "output_type": "execute_result"
    }
   ],
   "source": [
    "#This will convert 200 minutes to houry by dividing by 60\n",
    "200/60"
   ]
  },
  {
   "cell_type": "markdown",
   "id": "56a4f68f-c200-4b55-b6bd-14c748f4b639",
   "metadata": {},
   "source": []
  }
 ],
 "metadata": {
  "kernelspec": {
   "display_name": "Python 3 (ipykernel)",
   "language": "python",
   "name": "python3"
  },
  "language_info": {
   "codemirror_mode": {
    "name": "ipython",
    "version": 3
   },
   "file_extension": ".py",
   "mimetype": "text/x-python",
   "name": "python",
   "nbconvert_exporter": "python",
   "pygments_lexer": "ipython3",
   "version": "3.12.7"
  }
 },
 "nbformat": 4,
 "nbformat_minor": 5
}
